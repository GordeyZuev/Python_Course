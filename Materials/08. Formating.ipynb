{
  "nbformat": 4,
  "nbformat_minor": 0,
  "metadata": {
    "colab": {
      "provenance": []
    },
    "kernelspec": {
      "name": "python3",
      "display_name": "Python 3"
    },
    "language_info": {
      "name": "python"
    }
  },
  "cells": [
    {
      "cell_type": "markdown",
      "source": [
        "# **Форматирование Строк.**\n",
        "\n",
        "Сегодня мы будем обсуждать тему форматирования. Но почему мы решили тщательно посмотреть на нее? Об этом и узнаем на уроке.\n",
        "\n",
        "\n",
        "> **Темы разговора:**\n",
        ">\n",
        "> - Что вообще такое форматирование?\n",
        "> - Зачем мне уметь форматировать текст?\n",
        "> - Где это может понадобиться?\n",
        "\n",
        "\n",
        "Теперь перейдем к изучению!\n",
        "\n",
        "\n",
        "По вопросам:\n",
        "*Гордей Андреевич Зуев - @WhiteShape*"
      ],
      "metadata": {
        "id": "ZvJAdlrAAl-K"
      }
    },
    {
      "cell_type": "markdown",
      "source": [
        "### **Принцип форматирования.**\n",
        "\n",
        "Рассмотрим как работает форматирование!"
      ],
      "metadata": {
        "id": "2hikNtUtM_k8"
      }
    },
    {
      "cell_type": "code",
      "execution_count": null,
      "metadata": {
        "id": "sYj7nf2XAhLH"
      },
      "outputs": [],
      "source": [
        "# Привет, меня зовут name, мне n лет!\n"
      ]
    },
    {
      "cell_type": "markdown",
      "source": [
        "**Выше мы видим строчку.**\n",
        "\n",
        "Как мы можем подставить значения `name` и `n` внутрь этой строчки?\n",
        "Сколько это у нас займёт времени?"
      ],
      "metadata": {
        "id": "3UdRgse2BqVa"
      }
    },
    {
      "cell_type": "code",
      "source": [
        "# Сторчка \"Привет, меня зовут name, мне age лет!\"\n",
        "\n",
        "\n",
        "# Первый вариант - перечесление разных подстрок.\n",
        "s_1 = \"Привет, меня зовут \", name, \", мне \", n, \" лет!\"\n",
        "\n",
        "# Второй вариант - Сложение строк (Или же, более официально - конкатенация).\n",
        "s_2 = \"Привет, меня зовут\" + name + \", мне \" + n + \" лет!\"\n",
        "\n",
        "\n",
        "# print(s1)\n",
        "# print(s1)"
      ],
      "metadata": {
        "id": "CedKTkiHGx2L"
      },
      "execution_count": null,
      "outputs": []
    },
    {
      "cell_type": "markdown",
      "source": [
        "**Что мы видим?**\n",
        "\n",
        "А мы видим то, что оформление этой одной и маленькой строчки выглядит очень нечитаемо во всех вариантах, что выше. Но как мы можем это исправить?\n",
        "\n",
        "Расссмотрим работу метода `.format()`.\n"
      ],
      "metadata": {
        "id": "ATJWp41oCCa0"
      }
    },
    {
      "cell_type": "code",
      "source": [
        "# Как работает .format()?\n",
        "# string.format(string specialties)\n",
        "\n",
        "s = 'Привет, меня зовут {0}, мне {1} лет!'.format(...)"
      ],
      "metadata": {
        "id": "cqbSb1MLCq3W"
      },
      "execution_count": null,
      "outputs": []
    },
    {
      "cell_type": "markdown",
      "source": [
        "**Делаем ещё Удобнее!**\n",
        "\n",
        "Также мы можем сделать форматирование немного более понятным, указывая не нумерацию вставки значений, а обозначение этих самых вставок!"
      ],
      "metadata": {
        "id": "HAaAbxNYIjXN"
      }
    },
    {
      "cell_type": "markdown",
      "source": [],
      "metadata": {
        "id": "EaEnCRcLIzhw"
      }
    },
    {
      "cell_type": "code",
      "source": [
        "# Видим, что такой вариант визуально красивее.\n",
        "\n",
        "'Привет, меня зовут {name}, мне {age} лет!'.format(name = '', age = '')\n"
      ],
      "metadata": {
        "id": "IfRuetCbI0-U"
      },
      "execution_count": null,
      "outputs": []
    },
    {
      "cell_type": "markdown",
      "source": [
        "**Но можно ли сделать все еще красивее и понятнее?**\n",
        "\n",
        "Да! Конечно, можно!\n",
        "\n",
        "Именно для этого в версии Python 3.6 ввели такой невероятный инструмент как **`f-строки`** (или **`f-string`** на английском)!\n",
        "\n",
        "---\n",
        "\n",
        "*Но быстрый вопрос - а что за буква f вообще? А все просто - так как мы работаем с форматированием - то просто для сокращение из этого слова взяли первую букву!*"
      ],
      "metadata": {
        "id": "g5BkZf7_CZSF"
      }
    },
    {
      "cell_type": "code",
      "source": [
        "# Рассмотрим пример, что и в ячейке выше, но теперь будем пользоваться f строками?\n",
        "\n",
        "# Заранее запишем знечения name и age.\n",
        "\n",
        "name = ''\n",
        "age = ''\n",
        "\n",
        "# Вместо этого:\n",
        "'Привет, меня зовут {name}, мне {age} лет!'.format(name = '', age = '')\n",
        "\n",
        "# Теперь это:\n",
        "f'Привет, меня зовут {name}, мне {age} лет!'"
      ],
      "metadata": {
        "id": "_aARFdU6C2Dw"
      },
      "execution_count": null,
      "outputs": []
    },
    {
      "cell_type": "markdown",
      "source": [
        "**Что же получается?**\n",
        "\n",
        "Видим, что заменой первой строчки стало вот такая вот коротенькая строчка, которая обозначается одной лишь буквой `f` прямо перед самой строчкой."
      ],
      "metadata": {
        "id": "Ius6l55pC6ZD"
      }
    },
    {
      "cell_type": "code",
      "source": [
        "school = 'HSE Lyceum'\n",
        "name = 'Someone Someonov'\n",
        "age = 15\n",
        "\n",
        "s = f'Ученик - {name}, возраст - {age + 10}, школа - {school}'\n",
        "s"
      ],
      "metadata": {
        "id": "739CvG7uSMeo"
      },
      "execution_count": null,
      "outputs": []
    },
    {
      "cell_type": "markdown",
      "source": [],
      "metadata": {
        "id": "nSFmzci3LH0A"
      }
    },
    {
      "cell_type": "markdown",
      "source": [
        "**Что видим?**\n",
        "\n",
        "Оказывается, мало того, что это красиво и удобно, так мы в этой области можем еще и выполнять какие-то вычисления!\n",
        "\n",
        "Потому что область в фигурных скобках - та область, что программа считает кодом, а не строчкой. Мы можем там написать все, что хотим!\n",
        "\n",
        "Ну и конечно, замечаем, что это форматирование мы можем сохранить, что также важно!"
      ],
      "metadata": {
        "id": "Xovate0MDHaH"
      }
    },
    {
      "cell_type": "code",
      "source": [
        "# Найдем сумму чисел в списке M.\n",
        "\n",
        "M = [2,3,6,10,20]\n",
        "\n",
        "print(f'Сумма чисел списка M - {sum(M)}!')"
      ],
      "metadata": {
        "id": "AajrRBwNDThw"
      },
      "execution_count": null,
      "outputs": []
    },
    {
      "cell_type": "markdown",
      "source": [
        "###**Работа с форматом числа с помощью f-строк.**\n",
        "\n",
        "Существует много способов форматирование чисел с помощью `f-строк`!\n",
        "\n",
        "Давайте рассмотрим как мы можем использовать дополнительные возмоности.\n",
        "\n",
        "Чтобы их активировать мы должны указать какую-то доп настройку с помощью символа `:` после указания в фигурных скобках данных, с которыми мы хотим работать."
      ],
      "metadata": {
        "id": "YEN2FzbMDXar"
      }
    },
    {
      "cell_type": "code",
      "source": [
        "# Экспоненциальная запись числа.\n",
        "\n",
        "num_1 = 235.7575\n",
        "\n",
        "print(f'Экспоненциальная запись числа {num_1} - {num_1:e}.')"
      ],
      "metadata": {
        "id": "Pbr3ddIKZvpv",
        "colab": {
          "base_uri": "https://localhost:8080/"
        },
        "outputId": "588f2416-0672-4c3d-c446-64f1aa623050"
      },
      "execution_count": null,
      "outputs": [
        {
          "output_type": "stream",
          "name": "stdout",
          "text": [
            "Экспоненциальная запись числа 235.7575 - 2.357575e+02.\n"
          ]
        }
      ]
    },
    {
      "cell_type": "code",
      "source": [
        "# Вывести определенное количество знаков после запятой.\n",
        "\n",
        "num_1 = 235.7575\n",
        "\n",
        "print(f'Число {num_1} с двумя знаками после запятой - {num_1:.2f}')\n",
        "\n",
        "# Вдобавок, как мы видим, здесь появляется округление!"
      ],
      "metadata": {
        "id": "8ag7qzRSEKZf",
        "colab": {
          "base_uri": "https://localhost:8080/"
        },
        "outputId": "a8bd3272-86e3-41d8-8bae-16bd5ebb4ff5"
      },
      "execution_count": null,
      "outputs": [
        {
          "output_type": "stream",
          "name": "stdout",
          "text": [
            "Число 235.7575 с двумя знаками после запятой - 235.76\n"
          ]
        }
      ]
    },
    {
      "cell_type": "code",
      "source": [
        "# Вывести число с разделителем между разрядами.\n",
        "\n",
        "num_2 = 1234567890\n",
        "\n",
        "print(f'Красивое число - {num_2:,}') # Разделитель - Запятая.\n",
        "print(f'Красивое число - {num_2:_}') # Разделитель - Нижнее подчеркивание.\n"
      ],
      "metadata": {
        "id": "SRIom_o5PfZ7",
        "colab": {
          "base_uri": "https://localhost:8080/"
        },
        "outputId": "837caccf-26a7-43be-c426-56fb4922df1f"
      },
      "execution_count": null,
      "outputs": [
        {
          "output_type": "stream",
          "name": "stdout",
          "text": [
            "Красивое число - 1,234,567,890\n",
            "Красивое число - 1_234_567_890\n"
          ]
        }
      ]
    },
    {
      "cell_type": "code",
      "source": [
        "# Перевод из доли в проценты.\n",
        "\n",
        "num_3 = 0.5578\n",
        "\n",
        "print(f'Процент - {num_3:%}') # Просто перевели в проценты.\n",
        "print(f'Процент - {num_3:.1%}') # С указанием кол-ва знаков после запятой."
      ],
      "metadata": {
        "colab": {
          "base_uri": "https://localhost:8080/"
        },
        "id": "fVkHhe6YQNIW",
        "outputId": "5a5a7522-b65e-46f6-c2c3-3edca476f045"
      },
      "execution_count": null,
      "outputs": [
        {
          "output_type": "stream",
          "name": "stdout",
          "text": [
            "Процент - 55.780000%\n",
            "Процент - 55.8%\n"
          ]
        }
      ]
    },
    {
      "cell_type": "code",
      "source": [
        "# Сделать число определенного размера (Или же добавить незначащие нули).\n",
        "\n",
        "num_4 = 8\n",
        "print(f'Число - {num_4:02}') # Число стало размером 2\n",
        "\n",
        "num_5 = 10\n",
        "print(f'Число - {num_5:02}') # Число стало размером 2\n",
        "\n",
        "# При том, как видно во втором примере, если число уже нужного размера, ничего не меняется"
      ],
      "metadata": {
        "colab": {
          "base_uri": "https://localhost:8080/"
        },
        "id": "m_PeoWgjQosY",
        "outputId": "af35d148-ee07-4037-e7c8-7eab2cb7537f"
      },
      "execution_count": null,
      "outputs": [
        {
          "output_type": "stream",
          "name": "stdout",
          "text": [
            "Число - 08\n",
            "Число - 10\n"
          ]
        }
      ]
    },
    {
      "cell_type": "markdown",
      "source": [
        "###**Работа со строками и выравниванием  с помощью f-строк.**\n",
        "\n",
        "Посмотрели на числа, теперь смотрим на строки - их также можно очень удобно преобразовывать и выравнивать с помощью нашего великолепного инструмента!\n",
        "\n",
        "Будем выравнивать строку и делать так, чтобы она была определенного размера!"
      ],
      "metadata": {
        "id": "yBLFdGyxPbux"
      }
    },
    {
      "cell_type": "code",
      "source": [
        "# Делаем, чтобы строка была определенного размера и выравниваем.\n",
        "\n",
        "s = 'Название'\n",
        "print(f'{s:#>15}')\n",
        "\n",
        "# Видим, что строка стала размером 15 (Что мы и указали).\n",
        "# Значок > Указывает, выравниваем по правому краю, а доп символы добавляем с обратной стороны."
      ],
      "metadata": {
        "colab": {
          "base_uri": "https://localhost:8080/"
        },
        "id": "yuTwbF_dSQj2",
        "outputId": "11b48032-e967-48ff-9400-99767354281d"
      },
      "execution_count": null,
      "outputs": [
        {
          "output_type": "stream",
          "name": "stdout",
          "text": [
            "#######Название\n"
          ]
        }
      ]
    },
    {
      "cell_type": "code",
      "source": [
        "# Аналогично предыдущей ячейке, но выравниваем по левому краю.\n",
        "\n",
        "s = 'Название'\n",
        "print(f'{s:!<15}')\n",
        "\n",
        "# Значок < Указывает, что мы добавляем символы справа."
      ],
      "metadata": {
        "colab": {
          "base_uri": "https://localhost:8080/"
        },
        "id": "dNwUbCCQSQ0a",
        "outputId": "6f51bf12-cc61-48f6-9158-717d529b9056"
      },
      "execution_count": null,
      "outputs": [
        {
          "output_type": "stream",
          "name": "stdout",
          "text": [
            "Название!!!!!!!\n"
          ]
        }
      ]
    },
    {
      "cell_type": "code",
      "source": [
        "# Аналогично предыдущей ячейке, но теперь выравниваем по центру.\n",
        "\n",
        "s = 'Text'\n",
        "print(f'{s:_^15}')\n",
        "\n",
        "# Значок ^ Указывает, что мы добавляем символы по обе стороны."
      ],
      "metadata": {
        "colab": {
          "base_uri": "https://localhost:8080/"
        },
        "id": "AUXyMiW3SRBO",
        "outputId": "591a802d-6459-4408-e476-e132a2031317"
      },
      "execution_count": null,
      "outputs": [
        {
          "output_type": "stream",
          "name": "stdout",
          "text": [
            "_____Text______\n"
          ]
        }
      ]
    },
    {
      "cell_type": "code",
      "source": [
        "# Пример применения выравнивания.\n",
        "\n",
        "print(f'Участник 1: {\"Соня\": >12}')\n",
        "print(f'Участник 2: {\"Антонина\": >12}')\n",
        "print(f'Участник 3: {\"Барбориска\": >12}')"
      ],
      "metadata": {
        "colab": {
          "base_uri": "https://localhost:8080/"
        },
        "id": "iuqzdIxAVD3K",
        "outputId": "77ab0241-b9a9-4f2c-bd9e-b71373937131"
      },
      "execution_count": null,
      "outputs": [
        {
          "output_type": "stream",
          "name": "stdout",
          "text": [
            "Участник 1:         Соня\n",
            "Участник 2:     Антонина\n",
            "Участник 3:   Барбориска\n"
          ]
        }
      ]
    },
    {
      "cell_type": "code",
      "source": [
        "# Пример с циклами.\n",
        "\n",
        "names = ['Соня', 'Антонина', 'Барбориска']\n",
        "\n",
        "for i in range(len(names)):\n",
        "  print(f'Участник №{i + 1}: {names[i]: >12}')\n",
        "\n",
        "# Указали номер участника - i + 1\n",
        "# Потом указали само имя - names[i]"
      ],
      "metadata": {
        "colab": {
          "base_uri": "https://localhost:8080/"
        },
        "id": "NCT5Qu6SVdz3",
        "outputId": "21d09a86-b849-4c20-e384-eb2ac9e8461a"
      },
      "execution_count": null,
      "outputs": [
        {
          "output_type": "stream",
          "name": "stdout",
          "text": [
            "Участник №1:         Соня\n",
            "Участник №2:     Антонина\n",
            "Участник №3:   Барбориска\n"
          ]
        }
      ]
    },
    {
      "cell_type": "markdown",
      "source": [
        "## **Скорость работы.**\n",
        "\n",
        "F-строки достаточно удобный и, как оказалось, быстрый инструмент.\n",
        "\n",
        "![image.png](data:image/png;base64,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)\n",
        "\n",
        "На картинке видим примерное сравнение работы `f-строк` и метода `.format()`, что мы рассмотрели первым делом! Да, на картинке есть и другие способы работы со строками, которые мы не рассматривали, но итог виден:\n",
        "\n",
        "\n",
        "\n",
        "*На простых примерах `f-строки` показывают наилучшие результаты.\n",
        "На **25%** быстрее метода `.format()`.*\n",
        "\n",
        "\n",
        "Часть материала взята отсюда - [Источник](https://shultais.education/blog/python-f-strings)."
      ],
      "metadata": {
        "id": "h1amgUG5WMlA"
      }
    },
    {
      "cell_type": "markdown",
      "source": [
        "## **Итог!**\n",
        "\n",
        "Использование `f-строк` - очень приятное и быстрое дело, которое упрощает как написание кода, так и его читаемость в целом!"
      ],
      "metadata": {
        "id": "vkDwn0naENn-"
      }
    },
    {
      "cell_type": "markdown",
      "source": [
        "# **Время практики.**\n",
        "\n",
        "Задачи ниже помогут закрепить материал и поймут помочь насколько удобны все те инструменты, что мы изучили сегодня.\n",
        "\n",
        "*Удачи!*"
      ],
      "metadata": {
        "id": "UJGtrOj2Pkle"
      }
    },
    {
      "cell_type": "markdown",
      "source": [
        "### **Задание №1. Продукты.**\n",
        "На вход подается имя товара, его количество, а также цена! Необходимо все вывести в формате:\n",
        "\n",
        "`## Имя Продукта         10 шт. 120 руб. ##`\n",
        "\n",
        "### Пример\n",
        "\n",
        "---\n",
        "\n",
        "### **Ввод:**\n",
        "Ящик Огурцов\n",
        "\n",
        "20\n",
        "\n",
        "240\n",
        "\n",
        "\n",
        "### **Вывод:**\n",
        "`## Ящик Огурцов         10 шт. 120 руб. ##`\n"
      ],
      "metadata": {
        "id": "_ZN8bYTzESOa"
      }
    },
    {
      "cell_type": "code",
      "source": [
        "# Решение задачи №1.\n",
        "\n"
      ],
      "metadata": {
        "id": "1m01NWVlEcrZ"
      },
      "execution_count": null,
      "outputs": []
    },
    {
      "cell_type": "markdown",
      "source": [
        "### **Задание №2. До Сотни.**\n",
        "Необходимо вывести все числа от 0 до 100, но в таком формате, чтобы число всегда было размером 3.\n",
        "\n",
        "### Пример\n",
        "\n",
        "---\n",
        "\n",
        "### **Вывод:**\n",
        "000\n",
        "\n",
        "001\n",
        "\n",
        "...\n",
        "\n",
        "099\n",
        "\n",
        "100"
      ],
      "metadata": {
        "id": "0iXlen-9ag8J"
      }
    },
    {
      "cell_type": "code",
      "source": [
        "# Решение задачи №2.\n",
        "\n"
      ],
      "metadata": {
        "id": "JlvI4G-vaZli"
      },
      "execution_count": null,
      "outputs": []
    },
    {
      "cell_type": "markdown",
      "source": [
        "### **Задание №3. Стрелка.**\n",
        "Необходимо вывести стрелочку размером n, где n - длина всей стрелки.\n",
        "\n",
        "*Указание - делать только с использованием f-строк.*\n",
        "\n",
        "### Пример\n",
        "\n",
        "---\n",
        "\n",
        "### **Ввод:**\n",
        "6\n",
        "\n",
        "### **Вывод:**\n",
        "----->"
      ],
      "metadata": {
        "id": "I0QZEpESahp5"
      }
    },
    {
      "cell_type": "code",
      "source": [
        "# Решение задачи №3.\n",
        "\n"
      ],
      "metadata": {
        "id": "kBSIzoeSacn5"
      },
      "execution_count": null,
      "outputs": []
    },
    {
      "cell_type": "markdown",
      "source": [
        "### **Задание №4. Школьная группа.**\n",
        "Школа закупила каждому ученику по шкафчику. Также школа хочет обозначить каждый шкафчик, но они хотят сделать это быстро - для этого они нас позвали решить эту задачу. На вход подает я\n",
        "\n",
        "```\n",
        "Класс ученика - <группа>.  \n",
        "<номер ученика в списке>. <имя ученика>.  \n",
        "Шкафчик: <номер шкафчика>.  \n",
        "```\n",
        "\n",
        "На вход подается класс ученика, него номер в списке, имя ученика!\n",
        "\n",
        "Необходимо вывести наклейку на шкафчик. Номер шкафчика - его класс и его номер в группе (К примеру, 9 класс и 8 номер в группе - 98 шкафчик)\n",
        "\n",
        "### Пример\n",
        "\n",
        "---\n",
        "\n",
        "### **Ввод:**\n",
        "9\n",
        "\n",
        "18\n",
        "\n",
        "Иван Иванов\n",
        "\n",
        "\n",
        "### **Вывод:**\n",
        "\n",
        "```\n",
        "Класс ученика - 9.  \n",
        "18. Иван Иванов.  \n",
        "Шкафчик: 918.  \n",
        "```"
      ],
      "metadata": {
        "id": "kg-dh2-1aiRz"
      }
    },
    {
      "cell_type": "code",
      "source": [
        "# Решение задачи №4.\n",
        "\n"
      ],
      "metadata": {
        "id": "N3vh7U6gaehL"
      },
      "execution_count": null,
      "outputs": []
    },
    {
      "cell_type": "markdown",
      "source": [
        "### **Задание №5*. Новогодняя Елка.**\n",
        "На вход подается размер елочки (Только нечетное число), без ствола дерева.\n",
        "Необходимо вывести эту елочку в определенном формате (будет в примере).\n",
        "\n",
        "### Пример\n",
        "\n",
        "---\n",
        "\n",
        "### **Ввод:**\n",
        "5\n",
        "\n",
        "\n",
        "### **Вывод:**\n",
        "`____1____`\n",
        "\n",
        "`___121___`\n",
        "\n",
        "`__12321__`\n",
        "\n",
        "`_1234321_`\n",
        "\n",
        "`123454321`\n",
        "\n",
        "`____1____`"
      ],
      "metadata": {
        "id": "etfiiNEjai7l"
      }
    },
    {
      "cell_type": "code",
      "source": [
        "# Решение задачи №5.\n",
        "\n"
      ],
      "metadata": {
        "id": "5m6jFiOyae5i"
      },
      "execution_count": null,
      "outputs": []
    },
    {
      "cell_type": "markdown",
      "source": [
        "*Made by Gordey Zuev.*\n",
        "\n",
        "Для обратной связи - [@WhiteShape](https://t.me/WhiteShape)"
      ],
      "metadata": {
        "id": "_w4H_07sQBHb"
      }
    }
  ]
}
